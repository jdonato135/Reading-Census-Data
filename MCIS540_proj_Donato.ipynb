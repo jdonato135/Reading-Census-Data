{
 "cells": [
  {
   "cell_type": "code",
   "execution_count": 1,
   "metadata": {},
   "outputs": [],
   "source": [
    "#import packages\n",
    "import matplotlib.pyplot as plt\n",
    "import seaborn as sns\n",
    "import pandas as pd\n",
    "import numpy as np\n",
    "import scipy as sp\n",
    "\n",
    "%matplotlib inline"
   ]
  },
  {
   "cell_type": "code",
   "execution_count": 2,
   "metadata": {
    "scrolled": true
   },
   "outputs": [
    {
     "data": {
      "text/html": [
       "<div>\n",
       "<style scoped>\n",
       "    .dataframe tbody tr th:only-of-type {\n",
       "        vertical-align: middle;\n",
       "    }\n",
       "\n",
       "    .dataframe tbody tr th {\n",
       "        vertical-align: top;\n",
       "    }\n",
       "\n",
       "    .dataframe thead th {\n",
       "        text-align: right;\n",
       "    }\n",
       "</style>\n",
       "<table border=\"1\" class=\"dataframe\">\n",
       "  <thead>\n",
       "    <tr style=\"text-align: right;\">\n",
       "      <th></th>\n",
       "      <th>CountyName</th>\n",
       "      <th>PovertyEstimate</th>\n",
       "      <th>PovertyPercent</th>\n",
       "      <th>MedianHouseholdIncome</th>\n",
       "    </tr>\n",
       "  </thead>\n",
       "  <tbody>\n",
       "    <tr>\n",
       "      <th>0</th>\n",
       "      <td>Adams County</td>\n",
       "      <td>2823</td>\n",
       "      <td>14.0</td>\n",
       "      <td>59645</td>\n",
       "    </tr>\n",
       "    <tr>\n",
       "      <th>1</th>\n",
       "      <td>Allegheny County</td>\n",
       "      <td>34743</td>\n",
       "      <td>15.2</td>\n",
       "      <td>56099</td>\n",
       "    </tr>\n",
       "    <tr>\n",
       "      <th>2</th>\n",
       "      <td>Armstrong County</td>\n",
       "      <td>2443</td>\n",
       "      <td>19.5</td>\n",
       "      <td>46968</td>\n",
       "    </tr>\n",
       "    <tr>\n",
       "      <th>3</th>\n",
       "      <td>Beaver County</td>\n",
       "      <td>5035</td>\n",
       "      <td>15.5</td>\n",
       "      <td>54715</td>\n",
       "    </tr>\n",
       "    <tr>\n",
       "      <th>4</th>\n",
       "      <td>Bedford County</td>\n",
       "      <td>1642</td>\n",
       "      <td>17.3</td>\n",
       "      <td>44834</td>\n",
       "    </tr>\n",
       "    <tr>\n",
       "      <th>...</th>\n",
       "      <td>...</td>\n",
       "      <td>...</td>\n",
       "      <td>...</td>\n",
       "      <td>...</td>\n",
       "    </tr>\n",
       "    <tr>\n",
       "      <th>62</th>\n",
       "      <td>Washington County</td>\n",
       "      <td>4639</td>\n",
       "      <td>11.5</td>\n",
       "      <td>58068</td>\n",
       "    </tr>\n",
       "    <tr>\n",
       "      <th>63</th>\n",
       "      <td>Wayne County</td>\n",
       "      <td>1592</td>\n",
       "      <td>18.7</td>\n",
       "      <td>49357</td>\n",
       "    </tr>\n",
       "    <tr>\n",
       "      <th>64</th>\n",
       "      <td>Westmoreland County</td>\n",
       "      <td>9150</td>\n",
       "      <td>14.1</td>\n",
       "      <td>56544</td>\n",
       "    </tr>\n",
       "    <tr>\n",
       "      <th>65</th>\n",
       "      <td>Wyoming County</td>\n",
       "      <td>908</td>\n",
       "      <td>17.1</td>\n",
       "      <td>55836</td>\n",
       "    </tr>\n",
       "    <tr>\n",
       "      <th>66</th>\n",
       "      <td>York County</td>\n",
       "      <td>13140</td>\n",
       "      <td>13.6</td>\n",
       "      <td>62305</td>\n",
       "    </tr>\n",
       "  </tbody>\n",
       "</table>\n",
       "<p>67 rows × 4 columns</p>\n",
       "</div>"
      ],
      "text/plain": [
       "             CountyName  PovertyEstimate  PovertyPercent  \\\n",
       "0          Adams County             2823            14.0   \n",
       "1      Allegheny County            34743            15.2   \n",
       "2      Armstrong County             2443            19.5   \n",
       "3         Beaver County             5035            15.5   \n",
       "4        Bedford County             1642            17.3   \n",
       "..                  ...              ...             ...   \n",
       "62    Washington County             4639            11.5   \n",
       "63         Wayne County             1592            18.7   \n",
       "64  Westmoreland County             9150            14.1   \n",
       "65       Wyoming County              908            17.1   \n",
       "66          York County            13140            13.6   \n",
       "\n",
       "    MedianHouseholdIncome  \n",
       "0                   59645  \n",
       "1                   56099  \n",
       "2                   46968  \n",
       "3                   54715  \n",
       "4                   44834  \n",
       "..                    ...  \n",
       "62                  58068  \n",
       "63                  49357  \n",
       "64                  56544  \n",
       "65                  55836  \n",
       "66                  62305  \n",
       "\n",
       "[67 rows x 4 columns]"
      ]
     },
     "execution_count": 2,
     "metadata": {},
     "output_type": "execute_result"
    }
   ],
   "source": [
    "df = pd.read_excel(r'Documents\\PACensusData.xls')\n",
    "df"
   ]
  },
  {
   "cell_type": "code",
   "execution_count": 3,
   "metadata": {},
   "outputs": [
    {
     "data": {
      "text/html": [
       "<div>\n",
       "<style scoped>\n",
       "    .dataframe tbody tr th:only-of-type {\n",
       "        vertical-align: middle;\n",
       "    }\n",
       "\n",
       "    .dataframe tbody tr th {\n",
       "        vertical-align: top;\n",
       "    }\n",
       "\n",
       "    .dataframe thead th {\n",
       "        text-align: right;\n",
       "    }\n",
       "</style>\n",
       "<table border=\"1\" class=\"dataframe\">\n",
       "  <thead>\n",
       "    <tr style=\"text-align: right;\">\n",
       "      <th></th>\n",
       "      <th>CountyName</th>\n",
       "      <th>PovertyEstimate</th>\n",
       "      <th>PovertyPercent</th>\n",
       "      <th>MedianHouseholdIncome</th>\n",
       "    </tr>\n",
       "  </thead>\n",
       "  <tbody>\n",
       "    <tr>\n",
       "      <th>count</th>\n",
       "      <td>67</td>\n",
       "      <td>67.000000</td>\n",
       "      <td>67.000000</td>\n",
       "      <td>67.000000</td>\n",
       "    </tr>\n",
       "    <tr>\n",
       "      <th>unique</th>\n",
       "      <td>67</td>\n",
       "      <td>NaN</td>\n",
       "      <td>NaN</td>\n",
       "      <td>NaN</td>\n",
       "    </tr>\n",
       "    <tr>\n",
       "      <th>top</th>\n",
       "      <td>Mercer County</td>\n",
       "      <td>NaN</td>\n",
       "      <td>NaN</td>\n",
       "      <td>NaN</td>\n",
       "    </tr>\n",
       "    <tr>\n",
       "      <th>freq</th>\n",
       "      <td>1</td>\n",
       "      <td>NaN</td>\n",
       "      <td>NaN</td>\n",
       "      <td>NaN</td>\n",
       "    </tr>\n",
       "    <tr>\n",
       "      <th>mean</th>\n",
       "      <td>NaN</td>\n",
       "      <td>7198.432836</td>\n",
       "      <td>19.197015</td>\n",
       "      <td>52552.522388</td>\n",
       "    </tr>\n",
       "    <tr>\n",
       "      <th>std</th>\n",
       "      <td>NaN</td>\n",
       "      <td>15962.701329</td>\n",
       "      <td>7.026270</td>\n",
       "      <td>10278.971079</td>\n",
       "    </tr>\n",
       "    <tr>\n",
       "      <th>min</th>\n",
       "      <td>NaN</td>\n",
       "      <td>124.000000</td>\n",
       "      <td>7.500000</td>\n",
       "      <td>38819.000000</td>\n",
       "    </tr>\n",
       "    <tr>\n",
       "      <th>25%</th>\n",
       "      <td>NaN</td>\n",
       "      <td>1601.500000</td>\n",
       "      <td>15.300000</td>\n",
       "      <td>45111.000000</td>\n",
       "    </tr>\n",
       "    <tr>\n",
       "      <th>50%</th>\n",
       "      <td>NaN</td>\n",
       "      <td>3215.000000</td>\n",
       "      <td>18.800000</td>\n",
       "      <td>49274.000000</td>\n",
       "    </tr>\n",
       "    <tr>\n",
       "      <th>75%</th>\n",
       "      <td>NaN</td>\n",
       "      <td>6540.000000</td>\n",
       "      <td>21.900000</td>\n",
       "      <td>59137.500000</td>\n",
       "    </tr>\n",
       "    <tr>\n",
       "      <th>max</th>\n",
       "      <td>NaN</td>\n",
       "      <td>126144.000000</td>\n",
       "      <td>57.100000</td>\n",
       "      <td>92551.000000</td>\n",
       "    </tr>\n",
       "  </tbody>\n",
       "</table>\n",
       "</div>"
      ],
      "text/plain": [
       "           CountyName  PovertyEstimate  PovertyPercent  MedianHouseholdIncome\n",
       "count              67        67.000000       67.000000              67.000000\n",
       "unique             67              NaN             NaN                    NaN\n",
       "top     Mercer County              NaN             NaN                    NaN\n",
       "freq                1              NaN             NaN                    NaN\n",
       "mean              NaN      7198.432836       19.197015           52552.522388\n",
       "std               NaN     15962.701329        7.026270           10278.971079\n",
       "min               NaN       124.000000        7.500000           38819.000000\n",
       "25%               NaN      1601.500000       15.300000           45111.000000\n",
       "50%               NaN      3215.000000       18.800000           49274.000000\n",
       "75%               NaN      6540.000000       21.900000           59137.500000\n",
       "max               NaN    126144.000000       57.100000           92551.000000"
      ]
     },
     "execution_count": 3,
     "metadata": {},
     "output_type": "execute_result"
    }
   ],
   "source": [
    "#Descriptive statistics\n",
    "df.describe(include='all')"
   ]
  },
  {
   "cell_type": "code",
   "execution_count": 4,
   "metadata": {
    "scrolled": true
   },
   "outputs": [
    {
     "data": {
      "text/html": [
       "<div>\n",
       "<style scoped>\n",
       "    .dataframe tbody tr th:only-of-type {\n",
       "        vertical-align: middle;\n",
       "    }\n",
       "\n",
       "    .dataframe tbody tr th {\n",
       "        vertical-align: top;\n",
       "    }\n",
       "\n",
       "    .dataframe thead th {\n",
       "        text-align: right;\n",
       "    }\n",
       "</style>\n",
       "<table border=\"1\" class=\"dataframe\">\n",
       "  <thead>\n",
       "    <tr style=\"text-align: right;\">\n",
       "      <th></th>\n",
       "      <th>PovertyEstimate</th>\n",
       "      <th>PovertyPercent</th>\n",
       "      <th>MedianHouseholdIncome</th>\n",
       "    </tr>\n",
       "    <tr>\n",
       "      <th>CountyName</th>\n",
       "      <th></th>\n",
       "      <th></th>\n",
       "      <th></th>\n",
       "    </tr>\n",
       "  </thead>\n",
       "  <tbody>\n",
       "    <tr>\n",
       "      <th>Adams County</th>\n",
       "      <td>2823</td>\n",
       "      <td>14.0</td>\n",
       "      <td>59645</td>\n",
       "    </tr>\n",
       "    <tr>\n",
       "      <th>Allegheny County</th>\n",
       "      <td>34743</td>\n",
       "      <td>15.2</td>\n",
       "      <td>56099</td>\n",
       "    </tr>\n",
       "    <tr>\n",
       "      <th>Armstrong County</th>\n",
       "      <td>2443</td>\n",
       "      <td>19.5</td>\n",
       "      <td>46968</td>\n",
       "    </tr>\n",
       "    <tr>\n",
       "      <th>Beaver County</th>\n",
       "      <td>5035</td>\n",
       "      <td>15.5</td>\n",
       "      <td>54715</td>\n",
       "    </tr>\n",
       "    <tr>\n",
       "      <th>Bedford County</th>\n",
       "      <td>1642</td>\n",
       "      <td>17.3</td>\n",
       "      <td>44834</td>\n",
       "    </tr>\n",
       "    <tr>\n",
       "      <th>...</th>\n",
       "      <td>...</td>\n",
       "      <td>...</td>\n",
       "      <td>...</td>\n",
       "    </tr>\n",
       "    <tr>\n",
       "      <th>Washington County</th>\n",
       "      <td>4639</td>\n",
       "      <td>11.5</td>\n",
       "      <td>58068</td>\n",
       "    </tr>\n",
       "    <tr>\n",
       "      <th>Wayne County</th>\n",
       "      <td>1592</td>\n",
       "      <td>18.7</td>\n",
       "      <td>49357</td>\n",
       "    </tr>\n",
       "    <tr>\n",
       "      <th>Westmoreland County</th>\n",
       "      <td>9150</td>\n",
       "      <td>14.1</td>\n",
       "      <td>56544</td>\n",
       "    </tr>\n",
       "    <tr>\n",
       "      <th>Wyoming County</th>\n",
       "      <td>908</td>\n",
       "      <td>17.1</td>\n",
       "      <td>55836</td>\n",
       "    </tr>\n",
       "    <tr>\n",
       "      <th>York County</th>\n",
       "      <td>13140</td>\n",
       "      <td>13.6</td>\n",
       "      <td>62305</td>\n",
       "    </tr>\n",
       "  </tbody>\n",
       "</table>\n",
       "<p>67 rows × 3 columns</p>\n",
       "</div>"
      ],
      "text/plain": [
       "                     PovertyEstimate  PovertyPercent  MedianHouseholdIncome\n",
       "CountyName                                                                 \n",
       "Adams County                    2823            14.0                  59645\n",
       "Allegheny County               34743            15.2                  56099\n",
       "Armstrong County                2443            19.5                  46968\n",
       "Beaver County                   5035            15.5                  54715\n",
       "Bedford County                  1642            17.3                  44834\n",
       "...                              ...             ...                    ...\n",
       "Washington County               4639            11.5                  58068\n",
       "Wayne County                    1592            18.7                  49357\n",
       "Westmoreland County             9150            14.1                  56544\n",
       "Wyoming County                   908            17.1                  55836\n",
       "York County                    13140            13.6                  62305\n",
       "\n",
       "[67 rows x 3 columns]"
      ]
     },
     "execution_count": 4,
     "metadata": {},
     "output_type": "execute_result"
    }
   ],
   "source": [
    "df.set_index('CountyName')"
   ]
  },
  {
   "cell_type": "code",
   "execution_count": 5,
   "metadata": {},
   "outputs": [
    {
     "data": {
      "text/plain": [
       "CountyName               Forest County\n",
       "PovertyEstimate                    124\n",
       "PovertyPercent                    57.1\n",
       "MedianHouseholdIncome            38819\n",
       "Name: 26, dtype: object"
      ]
     },
     "execution_count": 5,
     "metadata": {},
     "output_type": "execute_result"
    }
   ],
   "source": [
    "df.loc[df['PovertyPercent'].idxmax()]"
   ]
  },
  {
   "cell_type": "code",
   "execution_count": 6,
   "metadata": {},
   "outputs": [
    {
     "data": {
      "text/plain": [
       "CountyName               Chester County\n",
       "PovertyEstimate                    8822\n",
       "PovertyPercent                      7.5\n",
       "MedianHouseholdIncome             92551\n",
       "Name: 14, dtype: object"
      ]
     },
     "execution_count": 6,
     "metadata": {},
     "output_type": "execute_result"
    }
   ],
   "source": [
    "df.loc[df['PovertyPercent'].idxmin()]\n"
   ]
  },
  {
   "cell_type": "code",
   "execution_count": 22,
   "metadata": {},
   "outputs": [
    {
     "name": "stdout",
     "output_type": "stream",
     "text": [
      "CountyName               Forest County\n",
      "PovertyEstimate                    124\n",
      "PovertyPercent                    57.1\n",
      "MedianHouseholdIncome            38819\n",
      "Name: 26, dtype: object\n"
     ]
    }
   ],
   "source": [
    "#fuction to print highest poverty rate\n",
    "def print_highest_data():\n",
    "    i = df.loc[df['PovertyPercent'].idxmax()]\n",
    "    print (i)\n",
    "\n",
    "print_highest_data()"
   ]
  },
  {
   "cell_type": "code",
   "execution_count": 23,
   "metadata": {},
   "outputs": [
    {
     "name": "stdout",
     "output_type": "stream",
     "text": [
      "CountyName               Chester County\n",
      "PovertyEstimate                    8822\n",
      "PovertyPercent                      7.5\n",
      "MedianHouseholdIncome             92551\n",
      "Name: 14, dtype: object\n"
     ]
    }
   ],
   "source": [
    "#fuction to print lowest poverty rate\n",
    "def print_lowest_data():\n",
    "    n = df.loc[df['PovertyPercent'].idxmin()]\n",
    "    print (n)\n",
    "\n",
    "print_lowest_data()"
   ]
  },
  {
   "cell_type": "code",
   "execution_count": 26,
   "metadata": {},
   "outputs": [
    {
     "name": "stdout",
     "output_type": "stream",
     "text": [
      "The following data will provide the county with the lowest percentage of children in poverty: \n",
      "\n",
      "CountyName               Chester County\n",
      "PovertyEstimate                    8822\n",
      "PovertyPercent                      7.5\n",
      "MedianHouseholdIncome             92551\n",
      "Name: 14, dtype: object\n",
      "None\n",
      "\n",
      "The following data will provide county with the the highest percentage of children in poverty: \n",
      "\n",
      "CountyName               Forest County\n",
      "PovertyEstimate                    124\n",
      "PovertyPercent                    57.1\n",
      "MedianHouseholdIncome            38819\n",
      "Name: 26, dtype: object\n",
      "None\n"
     ]
    }
   ],
   "source": [
    "#function to print highest and lowest poverty data\n",
    "def print_min_max_data():\n",
    "    print(\"The following data will provide the county with the lowest percentage of children in poverty: \\n\")\n",
    "    print(print_lowest_data())\n",
    "    print(\"\\nThe following data will provide county with the the highest percentage of children in poverty: \\n\")\n",
    "    print(print_highest_data())\n",
    "    \n",
    "    \n",
    "print_min_max_data()\n",
    "    "
   ]
  },
  {
   "cell_type": "code",
   "execution_count": 10,
   "metadata": {},
   "outputs": [
    {
     "data": {
      "text/html": [
       "<div>\n",
       "<style scoped>\n",
       "    .dataframe tbody tr th:only-of-type {\n",
       "        vertical-align: middle;\n",
       "    }\n",
       "\n",
       "    .dataframe tbody tr th {\n",
       "        vertical-align: top;\n",
       "    }\n",
       "\n",
       "    .dataframe thead th {\n",
       "        text-align: right;\n",
       "    }\n",
       "</style>\n",
       "<table border=\"1\" class=\"dataframe\">\n",
       "  <thead>\n",
       "    <tr style=\"text-align: right;\">\n",
       "      <th></th>\n",
       "      <th>CountyName</th>\n",
       "      <th>PovertyEstimate</th>\n",
       "      <th>PovertyPercent</th>\n",
       "      <th>MedianHouseholdIncome</th>\n",
       "    </tr>\n",
       "  </thead>\n",
       "  <tbody>\n",
       "    <tr>\n",
       "      <th>63</th>\n",
       "      <td>Wayne County</td>\n",
       "      <td>1592</td>\n",
       "      <td>18.7</td>\n",
       "      <td>49357</td>\n",
       "    </tr>\n",
       "  </tbody>\n",
       "</table>\n",
       "</div>"
      ],
      "text/plain": [
       "      CountyName  PovertyEstimate  PovertyPercent  MedianHouseholdIncome\n",
       "63  Wayne County             1592            18.7                  49357"
      ]
     },
     "execution_count": 10,
     "metadata": {},
     "output_type": "execute_result"
    }
   ],
   "source": [
    "df.loc[df['CountyName'] == \"Wayne County\"]"
   ]
  },
  {
   "cell_type": "code",
   "execution_count": 11,
   "metadata": {},
   "outputs": [
    {
     "data": {
      "text/plain": [
       "0            Adams County\n",
       "1        Allegheny County\n",
       "2        Armstrong County\n",
       "3           Beaver County\n",
       "4          Bedford County\n",
       "             ...         \n",
       "62      Washington County\n",
       "63           Wayne County\n",
       "64    Westmoreland County\n",
       "65         Wyoming County\n",
       "66            York County\n",
       "Name: CountyName, Length: 67, dtype: object"
      ]
     },
     "execution_count": 11,
     "metadata": {},
     "output_type": "execute_result"
    }
   ],
   "source": [
    "#return county names\n",
    "df['CountyName']"
   ]
  },
  {
   "cell_type": "code",
   "execution_count": 12,
   "metadata": {},
   "outputs": [
    {
     "name": "stdout",
     "output_type": "stream",
     "text": [
      "What county would you like to look up? \n",
      "What county would you like to look up? Or if you would like to quit enter q or quit.quit\\\n",
      "What county would you like to look up? Or if you would like to quit enter q or quit.quit\n",
      "thanks for playing\n"
     ]
    }
   ],
   "source": [
    "#input lookup with case sensitivity. Will need to enter the full county name for result\n",
    "\n",
    "county = input(\"What county would you like to look up? \")   \n",
    "\n",
    "while county != \"quit\":\n",
    "    \n",
    "    if county in list(df['CountyName']):\n",
    "        print(df.loc[df['CountyName'] == county])\n",
    "    county = input(\"What county would you like to look up? Or if you would like to quit enter q or quit.\")\n",
    "    \n",
    "print(\"thanks for playing\")    "
   ]
  },
  {
   "cell_type": "code",
   "execution_count": 45,
   "metadata": {},
   "outputs": [
    {
     "name": "stdout",
     "output_type": "stream",
     "text": [
      "What county would you like to look up? erie\n",
      "Erie County\n"
     ]
    }
   ],
   "source": [
    "#lookup without case sensitivity. does not provide results\n",
    "\n",
    "import re\n",
    "\n",
    "county_input = input(\"What county would you like to look up? \")\n",
    "\n",
    "current_county_list = list(df['CountyName'])\n",
    "partial_lookup = [x for x in current_county_list if re.search(county_input, x, re.IGNORECASE)]\n",
    "for result in partial_lookup:\n",
    "    print (result)"
   ]
  },
  {
   "cell_type": "code",
   "execution_count": 14,
   "metadata": {
    "scrolled": true
   },
   "outputs": [
    {
     "name": "stdout",
     "output_type": "stream",
     "text": [
      "What county would you like to look up? e\n",
      "Allegheny County\n",
      "         CountyName  PovertyEstimate  PovertyPercent  MedianHouseholdIncome\n",
      "1  Allegheny County            34743            15.2                  56099\n",
      "Beaver County\n",
      "      CountyName  PovertyEstimate  PovertyPercent  MedianHouseholdIncome\n",
      "3  Beaver County             5035            15.5                  54715\n",
      "Bedford County\n",
      "       CountyName  PovertyEstimate  PovertyPercent  MedianHouseholdIncome\n",
      "4  Bedford County             1642            17.3                  44834\n",
      "Berks County\n",
      "     CountyName  PovertyEstimate  PovertyPercent  MedianHouseholdIncome\n",
      "5  Berks County            18364            19.9                  59205\n",
      "Butler County\n",
      "      CountyName  PovertyEstimate  PovertyPercent  MedianHouseholdIncome\n",
      "9  Butler County             3308             8.9                  66277\n",
      "Cameron County\n",
      "        CountyName  PovertyEstimate  PovertyPercent  MedianHouseholdIncome\n",
      "11  Cameron County              192            24.3                  39069\n",
      "Centre County\n",
      "       CountyName  PovertyEstimate  PovertyPercent  MedianHouseholdIncome\n",
      "13  Centre County             2831            11.7                  59070\n",
      "Chester County\n",
      "        CountyName  PovertyEstimate  PovertyPercent  MedianHouseholdIncome\n",
      "14  Chester County             8822             7.5                  92551\n",
      "Clearfield County\n",
      "           CountyName  PovertyEstimate  PovertyPercent  MedianHouseholdIncome\n",
      "16  Clearfield County             3215            22.0                  46173\n",
      "Cumberland County\n",
      "           CountyName  PovertyEstimate  PovertyPercent  MedianHouseholdIncome\n",
      "20  Cumberland County             5234            10.5                  64116\n",
      "Delaware County\n",
      "         CountyName  PovertyEstimate  PovertyPercent  MedianHouseholdIncome\n",
      "22  Delaware County            18912            15.4                  67773\n",
      "Elk County\n",
      "    CountyName  PovertyEstimate  PovertyPercent  MedianHouseholdIncome\n",
      "23  Elk County              810            14.0                  49274\n",
      "Erie County\n",
      "     CountyName  PovertyEstimate  PovertyPercent  MedianHouseholdIncome\n",
      "24  Erie County            14063            24.0                  48820\n",
      "Fayette County\n",
      "        CountyName  PovertyEstimate  PovertyPercent  MedianHouseholdIncome\n",
      "25  Fayette County             7212            28.6                  42056\n",
      "Forest County\n",
      "       CountyName  PovertyEstimate  PovertyPercent  MedianHouseholdIncome\n",
      "26  Forest County              124            57.1                  38819\n",
      "Greene County\n",
      "       CountyName  PovertyEstimate  PovertyPercent  MedianHouseholdIncome\n",
      "29  Greene County             1485            21.2                  50579\n",
      "Jefferson County\n",
      "          CountyName  PovertyEstimate  PovertyPercent  MedianHouseholdIncome\n",
      "32  Jefferson County             1741            19.0                  42670\n",
      "Lancaster County\n",
      "          CountyName  PovertyEstimate  PovertyPercent  MedianHouseholdIncome\n",
      "35  Lancaster County            19967            15.8                  61347\n",
      "Lawrence County\n",
      "         CountyName  PovertyEstimate  PovertyPercent  MedianHouseholdIncome\n",
      "36  Lawrence County             3553            20.6                  46727\n",
      "Lebanon County\n",
      "        CountyName  PovertyEstimate  PovertyPercent  MedianHouseholdIncome\n",
      "37  Lebanon County             4702            15.0                  56971\n",
      "Lehigh County\n",
      "       CountyName  PovertyEstimate  PovertyPercent  MedianHouseholdIncome\n",
      "38  Lehigh County            16518            20.4                  60243\n",
      "Luzerne County\n",
      "        CountyName  PovertyEstimate  PovertyPercent  MedianHouseholdIncome\n",
      "39  Luzerne County            14243            23.4                  46452\n",
      "Mc Kean County\n",
      "        CountyName  PovertyEstimate  PovertyPercent  MedianHouseholdIncome\n",
      "41  Mc Kean County             2128            26.8                  43082\n",
      "Mercer County\n",
      "       CountyName  PovertyEstimate  PovertyPercent  MedianHouseholdIncome\n",
      "42  Mercer County             5582            26.0                  49187\n",
      "Monroe County\n",
      "       CountyName  PovertyEstimate  PovertyPercent  MedianHouseholdIncome\n",
      "44  Monroe County             5795            17.6                  59574\n",
      "Montgomery County\n",
      "           CountyName  PovertyEstimate  PovertyPercent  MedianHouseholdIncome\n",
      "45  Montgomery County            13638             7.8                  84156\n",
      "Northumberland County\n",
      "               CountyName  PovertyEstimate  PovertyPercent  \\\n",
      "48  Northumberland County             3828            21.5   \n",
      "\n",
      "    MedianHouseholdIncome  \n",
      "48                  46783  \n",
      "Perry County\n",
      "      CountyName  PovertyEstimate  PovertyPercent  MedianHouseholdIncome\n",
      "49  Perry County             1361            14.1                  59244\n",
      "Philadelphia County\n",
      "             CountyName  PovertyEstimate  PovertyPercent  \\\n",
      "50  Philadelphia County           126144            37.2   \n",
      "\n",
      "    MedianHouseholdIncome  \n",
      "50                  41514  \n",
      "Pike County\n",
      "     CountyName  PovertyEstimate  PovertyPercent  MedianHouseholdIncome\n",
      "51  Pike County             1611            15.7                  60082\n",
      "Potter County\n",
      "       CountyName  PovertyEstimate  PovertyPercent  MedianHouseholdIncome\n",
      "52  Potter County              830            24.1                  44267\n",
      "Snyder County\n",
      "       CountyName  PovertyEstimate  PovertyPercent  MedianHouseholdIncome\n",
      "54  Snyder County             1691            19.8                  52487\n",
      "Somerset County\n",
      "         CountyName  PovertyEstimate  PovertyPercent  MedianHouseholdIncome\n",
      "55  Somerset County             3033            22.6                  43938\n",
      "Susquehanna County\n",
      "            CountyName  PovertyEstimate  PovertyPercent  MedianHouseholdIncome\n",
      "57  Susquehanna County             1515            19.8                  47518\n",
      "Venango County\n",
      "        CountyName  PovertyEstimate  PovertyPercent  MedianHouseholdIncome\n",
      "60  Venango County             2222            21.7                  41395\n",
      "Warren County\n",
      "       CountyName  PovertyEstimate  PovertyPercent  MedianHouseholdIncome\n",
      "61  Warren County             1984            26.1                  43896\n",
      "Wayne County\n",
      "      CountyName  PovertyEstimate  PovertyPercent  MedianHouseholdIncome\n",
      "63  Wayne County             1592            18.7                  49357\n",
      "Westmoreland County\n",
      "             CountyName  PovertyEstimate  PovertyPercent  \\\n",
      "64  Westmoreland County             9150            14.1   \n",
      "\n",
      "    MedianHouseholdIncome  \n",
      "64                  56544  \n",
      "What county would you like to look up? Or if you would like to quit enter q or quit.quit\n",
      "thanks for playing\n"
     ]
    }
   ],
   "source": [
    "#loop and results without case sensitivity\n",
    "\n",
    "import re\n",
    "\n",
    "\n",
    "county = input(\"What county would you like to look up? \")   \n",
    "\n",
    "while county != \"quit\":\n",
    "    \n",
    "    current_county_list = list(df['CountyName'])\n",
    "    partial_lookup = [x for x in current_county_list if re.search(county, x, re.IGNORECASE)]\n",
    "    \n",
    "    for result in partial_lookup:\n",
    "        print (result)\n",
    "        if result in list(df['CountyName']):\n",
    "            print(df.loc[df['CountyName'] == result])\n",
    "    county = input(\"What county would you like to look up? Or if you would like to quit enter q or quit.\")\n",
    "    \n",
    "print(\"thanks for playing\")    "
   ]
  },
  {
   "cell_type": "code",
   "execution_count": 29,
   "metadata": {},
   "outputs": [
    {
     "name": "stdout",
     "output_type": "stream",
     "text": [
      "What county would you like to look up? erie\n",
      "     CountyName  PovertyEstimate  PovertyPercent  MedianHouseholdIncome\n",
      "24  Erie County            14063            24.0                  48820\n",
      "What county would you like to look up? Or if you would like to end this search enter quit.chester\n",
      "        CountyName  PovertyEstimate  PovertyPercent  MedianHouseholdIncome\n",
      "14  Chester County             8822             7.5                  92551\n",
      "What county would you like to look up? Or if you would like to end this search enter quit.quit\n",
      "Thanks for searching!\n"
     ]
    }
   ],
   "source": [
    "#function to pint county data\n",
    "\n",
    "def print_county_data():\n",
    "\n",
    "    import re\n",
    "\n",
    "\n",
    "    county = input(\"What county would you like to look up? \")   \n",
    "\n",
    "    while county != \"quit\":\n",
    "\n",
    "        current_county_list = list(df['CountyName'])\n",
    "        partial_lookup = [x for x in current_county_list if re.search(county, x, re.IGNORECASE)]\n",
    "\n",
    "        for county in partial_lookup:\n",
    "            print (df.loc[df['CountyName'] == county])\n",
    "            \n",
    "        county = input(\"What county would you like to look up? Or if you would like to end this search enter quit.\")\n",
    "\n",
    "    print(\"Thanks for searching!\")  \n",
    "    \n",
    "print_county_data()"
   ]
  },
  {
   "cell_type": "code",
   "execution_count": 27,
   "metadata": {},
   "outputs": [
    {
     "name": "stdout",
     "output_type": "stream",
     "text": [
      "The following data will provide the county with the lowest percentage of children in poverty: \n",
      "\n",
      "CountyName               Chester County\n",
      "PovertyEstimate                    8822\n",
      "PovertyPercent                      7.5\n",
      "MedianHouseholdIncome             92551\n",
      "Name: 14, dtype: object\n",
      "None\n",
      "\n",
      "The following data will provide county with the the highest percentage of children in poverty: \n",
      "\n",
      "CountyName               Forest County\n",
      "PovertyEstimate                    124\n",
      "PovertyPercent                    57.1\n",
      "MedianHouseholdIncome            38819\n",
      "Name: 26, dtype: object\n",
      "None\n",
      "What county would you like to look up? erie\n",
      "     CountyName  PovertyEstimate  PovertyPercent  MedianHouseholdIncome\n",
      "24  Erie County            14063            24.0                  48820\n",
      "What county would you like to look up? Or if you would like to end this search enter quit.quit\n",
      "Thanks for searching!\n"
     ]
    }
   ],
   "source": [
    "#this fuction will print the data from all functions\n",
    "\n",
    "def print_data():\n",
    "    print_min_max_data()\n",
    "    print_county_data()\n",
    "    \n",
    "print_data()"
   ]
  },
  {
   "cell_type": "code",
   "execution_count": 44,
   "metadata": {},
   "outputs": [
    {
     "data": {
      "image/png": "[encoded data removed]",
      "text/plain": [
       "<Figure size 432x288 with 1 Axes>"
      ]
     },
     "metadata": {
      "needs_background": "light"
     },
     "output_type": "display_data"
    }
   ],
   "source": [
    "plt.scatter(df['MedianHouseholdIncome'], df['PovertyPercent'], c='G')\n",
    "plt.title('Income vs. Poverty Rate')\n",
    "plt.xlabel('Median Household Income')\n",
    "plt.ylabel('Child Poverty Rate')\n",
    "\n",
    "plt.show()"
   ]
  }
 ],
 "metadata": {
  "kernelspec": {
   "display_name": "Python 3",
   "language": "python",
   "name": "python3"
  },
  "language_info": {
   "codemirror_mode": {
    "name": "ipython",
    "version": 3
   },
   "file_extension": ".py",
   "mimetype": "text/x-python",
   "name": "python",
   "nbconvert_exporter": "python",
   "pygments_lexer": "ipython3",
   "version": "3.7.6"
  }
 },
 "nbformat": 4,
 "nbformat_minor": 4
}
